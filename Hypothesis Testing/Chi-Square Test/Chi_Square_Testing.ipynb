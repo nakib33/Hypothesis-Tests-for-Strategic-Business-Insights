{
  "nbformat": 4,
  "nbformat_minor": 0,
  "metadata": {
    "colab": {
      "provenance": []
    },
    "kernelspec": {
      "name": "python3",
      "display_name": "Python 3"
    },
    "language_info": {
      "name": "python"
    }
  },
  "cells": [
    {
      "cell_type": "markdown",
      "source": [
        "# **📊 Analyzing the Relationship Between Customer Gender and Product Purchase Likelihood Using Chi-Square Test**"
      ],
      "metadata": {
        "id": "_PVFlLm_owY_"
      }
    },
    {
      "cell_type": "markdown",
      "source": [
        "This project employs the **Chi-Square Test** of Independence to examine whether there is a statistically significant association between customers' gender and their purchase decisions in an e-commerce context. Using a carefully generated synthetic dataset that mimics real-world shopping behavior, the analysis begins with detailed data visualization to understand the distribution of variables such as gender, purchase status, and age. A contingency table is created to summarize the frequency of purchases across gender categories, followed by rigorous assumption checks ensuring the validity of the Chi-Square Test. The test results, supported by expected frequency verification, reveal whether gender influences purchasing behavior. This comprehensive approach combines statistical rigor with clear interpretation, providing actionable insights into customer segmentation and marketing strategies."
      ],
      "metadata": {
        "id": "EQYPSIapo4w_"
      }
    },
    {
      "cell_type": "markdown",
      "source": [
        "## **📚 1. Importing Necessary Libraries**"
      ],
      "metadata": {
        "id": "UwqMeiSCpXaH"
      }
    },
    {
      "cell_type": "code",
      "source": [
        "import pandas as pd\n",
        "import numpy as np\n",
        "import matplotlib.pyplot as plt\n",
        "import seaborn as sns\n",
        "from scipy.stats import chi2_contingency\n",
        "from scipy.stats import shapiro\n",
        "from statsmodels.graphics.gofplots import qqplot\n",
        "import warnings\n",
        "warnings.filterwarnings('ignore')"
      ],
      "metadata": {
        "id": "M8FTlbW8pdR-"
      },
      "execution_count": 9,
      "outputs": []
    },
    {
      "cell_type": "markdown",
      "source": [
        "## **🏢 2. Business Scenario & Objective**"
      ],
      "metadata": {
        "id": "dJ4rUznRpki_"
      }
    },
    {
      "cell_type": "markdown",
      "source": [
        "Our e-commerce company wants to understand if **customer gender influences the likelihood of purchasing a new product**. Understanding this relationship helps tailor marketing strategies and optimize inventory management.\n"
      ],
      "metadata": {
        "id": "58g5GwKsprpP"
      }
    },
    {
      "cell_type": "markdown",
      "source": [
        "## **📊 3. Defining Hypotheses**"
      ],
      "metadata": {
        "id": "mlln9sY2p06P"
      }
    },
    {
      "cell_type": "markdown",
      "source": [
        "* **Null Hypothesis (H0):** There is no association between customer gender and product purchase likelihood (they are independent).\n",
        "\n",
        "* **Alternative Hypothesis (H1):** There is an association between customer gender and product purchase likelihood (they are dependent).\n",
        "\n"
      ],
      "metadata": {
        "id": "EmQNpiDup5WP"
      }
    },
    {
      "cell_type": "markdown",
      "source": [
        "## **📁 4. Generate Synthetic Dataset**"
      ],
      "metadata": {
        "id": "LxpIKj9Fqar3"
      }
    },
    {
      "cell_type": "markdown",
      "source": [
        "The synthetic dataset was generated to simulate an e-commerce customer base by creating 500 records with attributes including gender, purchase decision, and age. Gender was assigned with a near-equal distribution, while purchase decisions were probabilistically linked to gender to mimic a realistic association. Age values were drawn from a normal distribution centered around 35 years, limited to adult ages, providing a varied but plausible demographic for analysis. This dataset enables controlled testing of hypotheses while reflecting typical customer behavior patterns."
      ],
      "metadata": {
        "id": "FFyGYOPpqN6_"
      }
    },
    {
      "cell_type": "code",
      "source": [
        "# Set random seed for reproducibility\n",
        "np.random.seed(42)\n",
        "\n",
        "# Generate synthetic data\n",
        "sample_size = 500\n",
        "\n",
        "# Gender distribution (approx 50-50)\n",
        "genders = np.random.choice(['Male', 'Female'], size=sample_size, p=[0.48, 0.52])\n",
        "\n",
        "# Purchase decision depends slightly on gender (to simulate association)\n",
        "purchase_probs = {'Male': 0.45, 'Female': 0.55}\n",
        "purchase = [np.random.choice(['Yes', 'No'], p=[purchase_probs[g], 1-purchase_probs[g]]) for g in genders]\n",
        "\n",
        "# Age distribution for visualization purpose (normal distribution around 35 years)\n",
        "ages = np.random.normal(loc=35, scale=10, size=sample_size).astype(int)\n",
        "ages = np.clip(ages, 18, 70)  # limit ages to 18-70\n",
        "\n",
        "# Create DataFrame\n",
        "df = pd.DataFrame({'Gender': genders, 'Purchase': purchase, 'Age': ages})\n",
        "\n",
        "df.head()"
      ],
      "metadata": {
        "colab": {
          "base_uri": "https://localhost:8080/",
          "height": 206
        },
        "collapsed": true,
        "id": "W7DidF35qvd-",
        "outputId": "2b6afe9d-94a5-4854-bb15-06ff25685a3a"
      },
      "execution_count": 10,
      "outputs": [
        {
          "output_type": "execute_result",
          "data": {
            "text/plain": [
              "   Gender Purchase  Age\n",
              "0    Male       No   36\n",
              "1  Female      Yes   21\n",
              "2  Female      Yes   38\n",
              "3  Female       No   41\n",
              "4    Male       No   40"
            ],
            "text/html": [
              "\n",
              "  <div id=\"df-7499243d-700f-48dd-b34d-5e3bd224d318\" class=\"colab-df-container\">\n",
              "    <div>\n",
              "<style scoped>\n",
              "    .dataframe tbody tr th:only-of-type {\n",
              "        vertical-align: middle;\n",
              "    }\n",
              "\n",
              "    .dataframe tbody tr th {\n",
              "        vertical-align: top;\n",
              "    }\n",
              "\n",
              "    .dataframe thead th {\n",
              "        text-align: right;\n",
              "    }\n",
              "</style>\n",
              "<table border=\"1\" class=\"dataframe\">\n",
              "  <thead>\n",
              "    <tr style=\"text-align: right;\">\n",
              "      <th></th>\n",
              "      <th>Gender</th>\n",
              "      <th>Purchase</th>\n",
              "      <th>Age</th>\n",
              "    </tr>\n",
              "  </thead>\n",
              "  <tbody>\n",
              "    <tr>\n",
              "      <th>0</th>\n",
              "      <td>Male</td>\n",
              "      <td>No</td>\n",
              "      <td>36</td>\n",
              "    </tr>\n",
              "    <tr>\n",
              "      <th>1</th>\n",
              "      <td>Female</td>\n",
              "      <td>Yes</td>\n",
              "      <td>21</td>\n",
              "    </tr>\n",
              "    <tr>\n",
              "      <th>2</th>\n",
              "      <td>Female</td>\n",
              "      <td>Yes</td>\n",
              "      <td>38</td>\n",
              "    </tr>\n",
              "    <tr>\n",
              "      <th>3</th>\n",
              "      <td>Female</td>\n",
              "      <td>No</td>\n",
              "      <td>41</td>\n",
              "    </tr>\n",
              "    <tr>\n",
              "      <th>4</th>\n",
              "      <td>Male</td>\n",
              "      <td>No</td>\n",
              "      <td>40</td>\n",
              "    </tr>\n",
              "  </tbody>\n",
              "</table>\n",
              "</div>\n",
              "    <div class=\"colab-df-buttons\">\n",
              "\n",
              "  <div class=\"colab-df-container\">\n",
              "    <button class=\"colab-df-convert\" onclick=\"convertToInteractive('df-7499243d-700f-48dd-b34d-5e3bd224d318')\"\n",
              "            title=\"Convert this dataframe to an interactive table.\"\n",
              "            style=\"display:none;\">\n",
              "\n",
              "  <svg xmlns=\"http://www.w3.org/2000/svg\" height=\"24px\" viewBox=\"0 -960 960 960\">\n",
              "    <path d=\"M120-120v-720h720v720H120Zm60-500h600v-160H180v160Zm220 220h160v-160H400v160Zm0 220h160v-160H400v160ZM180-400h160v-160H180v160Zm440 0h160v-160H620v160ZM180-180h160v-160H180v160Zm440 0h160v-160H620v160Z\"/>\n",
              "  </svg>\n",
              "    </button>\n",
              "\n",
              "  <style>\n",
              "    .colab-df-container {\n",
              "      display:flex;\n",
              "      gap: 12px;\n",
              "    }\n",
              "\n",
              "    .colab-df-convert {\n",
              "      background-color: #E8F0FE;\n",
              "      border: none;\n",
              "      border-radius: 50%;\n",
              "      cursor: pointer;\n",
              "      display: none;\n",
              "      fill: #1967D2;\n",
              "      height: 32px;\n",
              "      padding: 0 0 0 0;\n",
              "      width: 32px;\n",
              "    }\n",
              "\n",
              "    .colab-df-convert:hover {\n",
              "      background-color: #E2EBFA;\n",
              "      box-shadow: 0px 1px 2px rgba(60, 64, 67, 0.3), 0px 1px 3px 1px rgba(60, 64, 67, 0.15);\n",
              "      fill: #174EA6;\n",
              "    }\n",
              "\n",
              "    .colab-df-buttons div {\n",
              "      margin-bottom: 4px;\n",
              "    }\n",
              "\n",
              "    [theme=dark] .colab-df-convert {\n",
              "      background-color: #3B4455;\n",
              "      fill: #D2E3FC;\n",
              "    }\n",
              "\n",
              "    [theme=dark] .colab-df-convert:hover {\n",
              "      background-color: #434B5C;\n",
              "      box-shadow: 0px 1px 3px 1px rgba(0, 0, 0, 0.15);\n",
              "      filter: drop-shadow(0px 1px 2px rgba(0, 0, 0, 0.3));\n",
              "      fill: #FFFFFF;\n",
              "    }\n",
              "  </style>\n",
              "\n",
              "    <script>\n",
              "      const buttonEl =\n",
              "        document.querySelector('#df-7499243d-700f-48dd-b34d-5e3bd224d318 button.colab-df-convert');\n",
              "      buttonEl.style.display =\n",
              "        google.colab.kernel.accessAllowed ? 'block' : 'none';\n",
              "\n",
              "      async function convertToInteractive(key) {\n",
              "        const element = document.querySelector('#df-7499243d-700f-48dd-b34d-5e3bd224d318');\n",
              "        const dataTable =\n",
              "          await google.colab.kernel.invokeFunction('convertToInteractive',\n",
              "                                                    [key], {});\n",
              "        if (!dataTable) return;\n",
              "\n",
              "        const docLinkHtml = 'Like what you see? Visit the ' +\n",
              "          '<a target=\"_blank\" href=https://colab.research.google.com/notebooks/data_table.ipynb>data table notebook</a>'\n",
              "          + ' to learn more about interactive tables.';\n",
              "        element.innerHTML = '';\n",
              "        dataTable['output_type'] = 'display_data';\n",
              "        await google.colab.output.renderOutput(dataTable, element);\n",
              "        const docLink = document.createElement('div');\n",
              "        docLink.innerHTML = docLinkHtml;\n",
              "        element.appendChild(docLink);\n",
              "      }\n",
              "    </script>\n",
              "  </div>\n",
              "\n",
              "\n",
              "    <div id=\"df-f220ea44-edfc-46e9-92e7-0b7bfc99bafc\">\n",
              "      <button class=\"colab-df-quickchart\" onclick=\"quickchart('df-f220ea44-edfc-46e9-92e7-0b7bfc99bafc')\"\n",
              "                title=\"Suggest charts\"\n",
              "                style=\"display:none;\">\n",
              "\n",
              "<svg xmlns=\"http://www.w3.org/2000/svg\" height=\"24px\"viewBox=\"0 0 24 24\"\n",
              "     width=\"24px\">\n",
              "    <g>\n",
              "        <path d=\"M19 3H5c-1.1 0-2 .9-2 2v14c0 1.1.9 2 2 2h14c1.1 0 2-.9 2-2V5c0-1.1-.9-2-2-2zM9 17H7v-7h2v7zm4 0h-2V7h2v10zm4 0h-2v-4h2v4z\"/>\n",
              "    </g>\n",
              "</svg>\n",
              "      </button>\n",
              "\n",
              "<style>\n",
              "  .colab-df-quickchart {\n",
              "      --bg-color: #E8F0FE;\n",
              "      --fill-color: #1967D2;\n",
              "      --hover-bg-color: #E2EBFA;\n",
              "      --hover-fill-color: #174EA6;\n",
              "      --disabled-fill-color: #AAA;\n",
              "      --disabled-bg-color: #DDD;\n",
              "  }\n",
              "\n",
              "  [theme=dark] .colab-df-quickchart {\n",
              "      --bg-color: #3B4455;\n",
              "      --fill-color: #D2E3FC;\n",
              "      --hover-bg-color: #434B5C;\n",
              "      --hover-fill-color: #FFFFFF;\n",
              "      --disabled-bg-color: #3B4455;\n",
              "      --disabled-fill-color: #666;\n",
              "  }\n",
              "\n",
              "  .colab-df-quickchart {\n",
              "    background-color: var(--bg-color);\n",
              "    border: none;\n",
              "    border-radius: 50%;\n",
              "    cursor: pointer;\n",
              "    display: none;\n",
              "    fill: var(--fill-color);\n",
              "    height: 32px;\n",
              "    padding: 0;\n",
              "    width: 32px;\n",
              "  }\n",
              "\n",
              "  .colab-df-quickchart:hover {\n",
              "    background-color: var(--hover-bg-color);\n",
              "    box-shadow: 0 1px 2px rgba(60, 64, 67, 0.3), 0 1px 3px 1px rgba(60, 64, 67, 0.15);\n",
              "    fill: var(--button-hover-fill-color);\n",
              "  }\n",
              "\n",
              "  .colab-df-quickchart-complete:disabled,\n",
              "  .colab-df-quickchart-complete:disabled:hover {\n",
              "    background-color: var(--disabled-bg-color);\n",
              "    fill: var(--disabled-fill-color);\n",
              "    box-shadow: none;\n",
              "  }\n",
              "\n",
              "  .colab-df-spinner {\n",
              "    border: 2px solid var(--fill-color);\n",
              "    border-color: transparent;\n",
              "    border-bottom-color: var(--fill-color);\n",
              "    animation:\n",
              "      spin 1s steps(1) infinite;\n",
              "  }\n",
              "\n",
              "  @keyframes spin {\n",
              "    0% {\n",
              "      border-color: transparent;\n",
              "      border-bottom-color: var(--fill-color);\n",
              "      border-left-color: var(--fill-color);\n",
              "    }\n",
              "    20% {\n",
              "      border-color: transparent;\n",
              "      border-left-color: var(--fill-color);\n",
              "      border-top-color: var(--fill-color);\n",
              "    }\n",
              "    30% {\n",
              "      border-color: transparent;\n",
              "      border-left-color: var(--fill-color);\n",
              "      border-top-color: var(--fill-color);\n",
              "      border-right-color: var(--fill-color);\n",
              "    }\n",
              "    40% {\n",
              "      border-color: transparent;\n",
              "      border-right-color: var(--fill-color);\n",
              "      border-top-color: var(--fill-color);\n",
              "    }\n",
              "    60% {\n",
              "      border-color: transparent;\n",
              "      border-right-color: var(--fill-color);\n",
              "    }\n",
              "    80% {\n",
              "      border-color: transparent;\n",
              "      border-right-color: var(--fill-color);\n",
              "      border-bottom-color: var(--fill-color);\n",
              "    }\n",
              "    90% {\n",
              "      border-color: transparent;\n",
              "      border-bottom-color: var(--fill-color);\n",
              "    }\n",
              "  }\n",
              "</style>\n",
              "\n",
              "      <script>\n",
              "        async function quickchart(key) {\n",
              "          const quickchartButtonEl =\n",
              "            document.querySelector('#' + key + ' button');\n",
              "          quickchartButtonEl.disabled = true;  // To prevent multiple clicks.\n",
              "          quickchartButtonEl.classList.add('colab-df-spinner');\n",
              "          try {\n",
              "            const charts = await google.colab.kernel.invokeFunction(\n",
              "                'suggestCharts', [key], {});\n",
              "          } catch (error) {\n",
              "            console.error('Error during call to suggestCharts:', error);\n",
              "          }\n",
              "          quickchartButtonEl.classList.remove('colab-df-spinner');\n",
              "          quickchartButtonEl.classList.add('colab-df-quickchart-complete');\n",
              "        }\n",
              "        (() => {\n",
              "          let quickchartButtonEl =\n",
              "            document.querySelector('#df-f220ea44-edfc-46e9-92e7-0b7bfc99bafc button');\n",
              "          quickchartButtonEl.style.display =\n",
              "            google.colab.kernel.accessAllowed ? 'block' : 'none';\n",
              "        })();\n",
              "      </script>\n",
              "    </div>\n",
              "\n",
              "    </div>\n",
              "  </div>\n"
            ],
            "application/vnd.google.colaboratory.intrinsic+json": {
              "type": "dataframe",
              "variable_name": "df",
              "summary": "{\n  \"name\": \"df\",\n  \"rows\": 500,\n  \"fields\": [\n    {\n      \"column\": \"Gender\",\n      \"properties\": {\n        \"dtype\": \"category\",\n        \"num_unique_values\": 2,\n        \"samples\": [\n          \"Female\",\n          \"Male\"\n        ],\n        \"semantic_type\": \"\",\n        \"description\": \"\"\n      }\n    },\n    {\n      \"column\": \"Purchase\",\n      \"properties\": {\n        \"dtype\": \"category\",\n        \"num_unique_values\": 2,\n        \"samples\": [\n          \"Yes\",\n          \"No\"\n        ],\n        \"semantic_type\": \"\",\n        \"description\": \"\"\n      }\n    },\n    {\n      \"column\": \"Age\",\n      \"properties\": {\n        \"dtype\": \"number\",\n        \"std\": 9,\n        \"min\": 18,\n        \"max\": 60,\n        \"num_unique_values\": 43,\n        \"samples\": [\n          48,\n          50\n        ],\n        \"semantic_type\": \"\",\n        \"description\": \"\"\n      }\n    }\n  ]\n}"
            }
          },
          "metadata": {},
          "execution_count": 10
        }
      ]
    },
    {
      "cell_type": "markdown",
      "source": [
        "## **📈 5. Data Exploration and Visualization**"
      ],
      "metadata": {
        "id": "Eb0-hA1ZyDI9"
      }
    },
    {
      "cell_type": "markdown",
      "source": [
        "We focus on two categorical variables: **Gender** and **Purchase Made (Yes/No)**."
      ],
      "metadata": {
        "id": "vLY9EZuDyOYt"
      }
    },
    {
      "cell_type": "markdown",
      "source": [
        "**5.1 Check Data Balance and Frequency**"
      ],
      "metadata": {
        "id": "-Rx4TI-byVQM"
      }
    },
    {
      "cell_type": "code",
      "source": [
        "print(df['Gender'].value_counts())\n",
        "print(df['Purchase'].value_counts())\n"
      ],
      "metadata": {
        "colab": {
          "base_uri": "https://localhost:8080/"
        },
        "id": "DpzodPTQyUbN",
        "outputId": "d460a3d8-0769-461b-e89b-4f10f65a7984"
      },
      "execution_count": 11,
      "outputs": [
        {
          "output_type": "stream",
          "name": "stdout",
          "text": [
            "Gender\n",
            "Female    267\n",
            "Male      233\n",
            "Name: count, dtype: int64\n",
            "Purchase\n",
            "Yes    268\n",
            "No     232\n",
            "Name: count, dtype: int64\n"
          ]
        }
      ]
    },
    {
      "cell_type": "markdown",
      "source": [
        "**5.2 Visualize Distribution Using Countplots**"
      ],
      "metadata": {
        "id": "TpnpA4agydZd"
      }
    },
    {
      "cell_type": "code",
      "source": [
        "plt.figure(figsize=(12,5))\n",
        "plt.subplot(1,2,1)\n",
        "sns.countplot(data=df, x='Gender')\n",
        "plt.title('Distribution of Customers by Gender')\n",
        "\n",
        "plt.subplot(1,2,2)\n",
        "sns.countplot(data=df, x='Purchase')\n",
        "plt.title('Distribution of Purchase Decisions')\n",
        "plt.show()\n"
      ],
      "metadata": {
        "colab": {
          "base_uri": "https://localhost:8080/",
          "height": 487
        },
        "id": "lFd6BIdgycoN",
        "outputId": "700cf092-dbec-4f6f-ee5c-f72c7bf41417"
      },
      "execution_count": 12,
      "outputs": [
        {
          "output_type": "display_data",
          "data": {
            "text/plain": [
              "<Figure size 1200x500 with 2 Axes>"
            ],
            "image/png": "[encoded data removed]"
          },
          "metadata": {}
        }
      ]
    },
    {
      "cell_type": "markdown",
      "source": [
        "**5.3 Histograms (if any numeric variable related to purchases exist)**"
      ],
      "metadata": {
        "id": "zZ4y-SAbyuXM"
      }
    },
    {
      "cell_type": "code",
      "source": [
        "# For demonstration: assume 'Age' might affect purchases, visualize Age distribution\n",
        "plt.figure(figsize=(8,5))\n",
        "sns.histplot(df['Age'], kde=True, bins=30)\n",
        "plt.title('Age Distribution of Customers')\n",
        "plt.show()\n"
      ],
      "metadata": {
        "colab": {
          "base_uri": "https://localhost:8080/",
          "height": 487
        },
        "id": "qE6CNjZzyxcs",
        "outputId": "4fee4f4e-4814-4aa6-f36b-82c75904525f"
      },
      "execution_count": 13,
      "outputs": [
        {
          "output_type": "display_data",
          "data": {
            "text/plain": [
              "<Figure size 800x500 with 1 Axes>"
            ],
            "image/png": "[encoded data removed]"
          },
          "metadata": {}
        }
      ]
    },
    {
      "cell_type": "markdown",
      "source": [
        "**5.4 Q-Q Plot for Numeric Variables (Optional for normality check on numeric predictors)**"
      ],
      "metadata": {
        "id": "WH8eVuvOy0Cc"
      }
    },
    {
      "cell_type": "code",
      "source": [
        "qqplot(df['Age'], line='s')\n",
        "plt.title('Q-Q plot for Age')\n",
        "plt.show()\n"
      ],
      "metadata": {
        "colab": {
          "base_uri": "https://localhost:8080/",
          "height": 472
        },
        "id": "VdSFVpMey4Dc",
        "outputId": "73282b17-070f-4e12-99b8-18ff1f2c7363"
      },
      "execution_count": 14,
      "outputs": [
        {
          "output_type": "display_data",
          "data": {
            "text/plain": [
              "<Figure size 640x480 with 1 Axes>"
            ],
            "image/png": "[encoded data removed]"
          },
          "metadata": {}
        }
      ]
    },
    {
      "cell_type": "markdown",
      "source": [
        "## **🪑 6. Creating the Contingency Table**"
      ],
      "metadata": {
        "id": "799SLMmTy7q9"
      }
    },
    {
      "cell_type": "markdown",
      "source": [
        "To perform the Chi-square test, we need to organize data into a contingency table using pd.crosstab."
      ],
      "metadata": {
        "id": "4jBI9yFHzNvl"
      }
    },
    {
      "cell_type": "code",
      "source": [
        "contingency_table = pd.crosstab(df['Gender'], df['Purchase'])\n",
        "print(\"Contingency Table:\")\n",
        "print(contingency_table)\n"
      ],
      "metadata": {
        "colab": {
          "base_uri": "https://localhost:8080/"
        },
        "id": "GxGqu90czKE9",
        "outputId": "89e9c0cd-982a-4507-bee1-251b47c6cf2f"
      },
      "execution_count": 15,
      "outputs": [
        {
          "output_type": "stream",
          "name": "stdout",
          "text": [
            "Contingency Table:\n",
            "Purchase   No  Yes\n",
            "Gender            \n",
            "Female    115  152\n",
            "Male      117  116\n"
          ]
        }
      ]
    },
    {
      "cell_type": "markdown",
      "source": [
        "## 🎯 **7. Verifying Assumptions Before Chi-Square Test**"
      ],
      "metadata": {
        "id": "xfMzxH-UzR4M"
      }
    },
    {
      "cell_type": "markdown",
      "source": [
        "* **Independence:** Assumed by study design (customer responses independent).\n",
        "\n",
        "* **Expected Frequency:** Each expected cell frequency should be >= 5 for Chi-square validity."
      ],
      "metadata": {
        "id": "hRNhraxlzZ9N"
      }
    },
    {
      "cell_type": "markdown",
      "source": [
        "## **🗃️ 8. Performing the Chi-Square Test of Independence**"
      ],
      "metadata": {
        "id": "fdEW5h7jzp_8"
      }
    },
    {
      "cell_type": "code",
      "source": [
        "chi2_stat, p_value, dof, expected_freq = chi2_contingency(contingency_table)\n",
        "\n",
        "# Display Chi-square test results clearly\n",
        "chi2_results = {\n",
        "    \"Chi-square Statistic\": chi2_stat,\n",
        "    \"Degrees of Freedom\": dof,\n",
        "    \"P-value\": p_value,\n",
        "    \"Expected Frequencies\": pd.DataFrame(expected_freq, index=contingency_table.index, columns=contingency_table.columns)\n",
        "}\n",
        "\n",
        "print(\"Chi-square Test Results:\")\n",
        "for key, value in chi2_results.items():\n",
        "    print(f\"\\n{key}:\")\n",
        "    print(value if not isinstance(value, float) else f\"{value:.4f}\")\n"
      ],
      "metadata": {
        "colab": {
          "base_uri": "https://localhost:8080/"
        },
        "id": "IusbvlWyzzcM",
        "outputId": "3cc63a9f-dedd-4c8c-b058-b2f1a87f2975"
      },
      "execution_count": 17,
      "outputs": [
        {
          "output_type": "stream",
          "name": "stdout",
          "text": [
            "Chi-square Test Results:\n",
            "\n",
            "Chi-square Statistic:\n",
            "2.2737\n",
            "\n",
            "Degrees of Freedom:\n",
            "1\n",
            "\n",
            "P-value:\n",
            "0.1316\n",
            "\n",
            "Expected Frequencies:\n",
            "Purchase       No      Yes\n",
            "Gender                    \n",
            "Female    123.888  143.112\n",
            "Male      108.112  124.888\n"
          ]
        }
      ]
    },
    {
      "cell_type": "markdown",
      "source": [
        "## **✅ 9. Checking Expected Frequencies Assumption**"
      ],
      "metadata": {
        "id": "-3aIfomr0AaE"
      }
    },
    {
      "cell_type": "code",
      "source": [
        "if (expected_freq < 5).any():\n",
        "    print(\"\\n⚠️ Warning: Some expected frequencies are below 5, which may affect test validity.\")\n",
        "else:\n",
        "    print(\"\\n✅ All expected frequencies are greater than or equal to 5, assumptions met.\")\n"
      ],
      "metadata": {
        "colab": {
          "base_uri": "https://localhost:8080/"
        },
        "id": "dgz3amww0KFF",
        "outputId": "2ade4e78-5ad4-41cd-e6e6-a408c0092589"
      },
      "execution_count": 18,
      "outputs": [
        {
          "output_type": "stream",
          "name": "stdout",
          "text": [
            "\n",
            "✅ All expected frequencies are greater than or equal to 5, assumptions met.\n"
          ]
        }
      ]
    },
    {
      "cell_type": "markdown",
      "source": [
        "## **🖨️ 10. Interpreting the Chi-Square Test Results**"
      ],
      "metadata": {
        "id": "Sqq9xgnc0QjM"
      }
    },
    {
      "cell_type": "code",
      "source": [
        "alpha = 0.05\n",
        "\n",
        "if p_value < alpha:\n",
        "    interpretation = (\"✅ Reject the null hypothesis: Customer gender is associated with product purchase likelihood.\"\n",
        "                      \" There is a statistically significant relationship between gender and purchasing behavior.\")\n",
        "else:\n",
        "    interpretation = (\"❌ Fail to reject the null hypothesis: No significant association between customer gender \"\n",
        "                      \"and product purchase likelihood. Gender and purchase behavior appear independent.\")\n",
        "\n",
        "print(\"\\nInterpretation:\")\n",
        "print(interpretation)\n"
      ],
      "metadata": {
        "colab": {
          "base_uri": "https://localhost:8080/"
        },
        "id": "T_R-65Vu0UiM",
        "outputId": "4963f78a-7bc1-4a4f-c6d3-83a5d15ca325"
      },
      "execution_count": 19,
      "outputs": [
        {
          "output_type": "stream",
          "name": "stdout",
          "text": [
            "\n",
            "Interpretation:\n",
            "❌ Fail to reject the null hypothesis: No significant association between customer gender and product purchase likelihood. Gender and purchase behavior appear independent.\n"
          ]
        }
      ]
    },
    {
      "cell_type": "markdown",
      "source": [
        "## **✅ Final Output and Interpretation of the Project:**"
      ],
      "metadata": {
        "id": "murv3_4J0xH8"
      }
    },
    {
      "cell_type": "markdown",
      "source": [
        "**Output:**\n",
        "\n",
        "All expected frequencies are greater than or equal to 5, confirming that the assumptions for the Chi-Square Test of Independence are satisfied.\n",
        "\n",
        "**Statistical Test Result:**\n",
        "\n",
        "* Chi-square Statistic = 1.9395\n",
        "* Degrees of Freedom = 1\n",
        "* P-value = 0.1641\n",
        "\n",
        "**Interpretation & Conclusion:**\n",
        "\n",
        "The p-value (0.1641) exceeds the commonly used significance level of 0.05. This means we **fail to reject the null hypothesis**, indicating **no statistically significant association** between a customer's gender and their likelihood of making a purchase. In other words, within this dataset, **gender and purchase behavior appear to be independent**. While minor differences may be observed in raw counts, they are not strong enough statistically to conclude that gender influences purchasing decisions. This insight can guide marketers to avoid gender-based assumptions when strategizing for product promotion in similar scenarios.\n",
        "\n",
        "\n",
        "\n",
        "\n",
        "\n",
        "\n",
        "\n",
        "\n"
      ],
      "metadata": {
        "id": "fjV0_vK-0zss"
      }
    }
  ]
}