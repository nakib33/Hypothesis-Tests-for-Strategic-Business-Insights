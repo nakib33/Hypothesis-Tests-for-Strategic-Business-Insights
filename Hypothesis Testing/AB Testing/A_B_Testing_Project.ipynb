{
  "nbformat": 4,
  "nbformat_minor": 0,
  "metadata": {
    "colab": {
      "provenance": []
    },
    "kernelspec": {
      "name": "python3",
      "display_name": "Python 3"
    },
    "language_info": {
      "name": "python"
    }
  },
  "cells": [
    {
      "cell_type": "markdown",
      "source": [
        "#**📊 A/B Testing Project: Evaluating Button Color Impact on User Conversions**"
      ],
      "metadata": {
        "id": "bb1lxmSIR2je"
      }
    },
    {
      "cell_type": "markdown",
      "source": [
        "**Description:**\n",
        "\n",
        "This project performs a rigorous A/B testing analysis to evaluate the impact of two different button color variants on user conversion rates for an e-commerce platform. Using a real-world dataset from Kaggle, the study follows a structured approach including data exploration, assumption verification (normality and homogeneity of variances), and selection of appropriate statistical tests to compare the groups. Key metrics such as conversion rates and user engagement are analyzed through detailed visualizations like histograms and Q-Q plots. The project calculates effect sizes and statistical power to assess the practical significance and reliability of the findings. The results provide clear evidence to inform design decisions, demonstrating whether the new button color leads to statistically and practically significant improvements in user behavior, ensuring data-driven optimization of the user interface."
      ],
      "metadata": {
        "id": "NGOv-uYDaHwb"
      }
    },
    {
      "cell_type": "markdown",
      "source": [
        "##🔗 **Dataset Selection**\n"
      ],
      "metadata": {
        "id": "64y9e3k_ahR7"
      }
    },
    {
      "cell_type": "markdown",
      "source": [
        "\n",
        "We'll utilize the \"A/B Testing for Button Color Variants Dataset\" from Kaggle, which is under 1MB and ideal for our analysis. This synthetic dataset simulates user interactions with two different button colors, tracking clicks and conversions.\n",
        "\n",
        "Dataset Link: [A/B Testing for Button Color Variants Dataset](https://www.kaggle.com/datasets/tathagatachowdhury09/ab-testing-for-button-color-variants-dataset)"
      ],
      "metadata": {
        "id": "63A7LZBUauEb"
      }
    },
    {
      "cell_type": "markdown",
      "source": [
        "##**🧠 1. Business Scenario & Objective**"
      ],
      "metadata": {
        "id": "YO_MCHZFa1t6"
      }
    },
    {
      "cell_type": "markdown",
      "source": [
        "**Scenario:** An e-commerce platform is experimenting with two button colors (Blue and Green) to determine which color leads to higher user conversions.\n",
        "\n",
        "**Objective:** Assess whether the change in button color significantly affects the conversion rate, guiding UI design decisions."
      ],
      "metadata": {
        "id": "Ncv8Dsuea_uD"
      }
    },
    {
      "cell_type": "markdown",
      "source": [
        "##**📚 2. Importing Necessary Libraries**"
      ],
      "metadata": {
        "id": "w8_965WBbFS6"
      }
    },
    {
      "cell_type": "code",
      "source": [
        "import pandas as pd\n",
        "import numpy as np\n",
        "import matplotlib.pyplot as plt\n",
        "import seaborn as sns\n",
        "import scipy.stats as stats\n",
        "from statsmodels.stats.power import TTestIndPower\n",
        "from statsmodels.graphics.gofplots import qqplot\n",
        "import warnings\n",
        "warnings.filterwarnings('ignore')"
      ],
      "metadata": {
        "id": "WPa1Onbpao5o"
      },
      "execution_count": 1,
      "outputs": []
    },
    {
      "cell_type": "markdown",
      "source": [
        "##**📥 3. Data Loading & Preliminary Exploration**"
      ],
      "metadata": {
        "id": "pFA9atbYbQzT"
      }
    },
    {
      "cell_type": "code",
      "source": [
        "#load file stopword\n",
        "from google.colab import files\n",
        "files.upload()\n"
      ],
      "metadata": {
        "id": "3H7AgDjQbgaj"
      },
      "execution_count": null,
      "outputs": []
    },
    {
      "cell_type": "code",
      "source": [
        "# Load your dataset\n",
        "# Replace 'your_dataset.csv' with the actual path to your CSV file\n",
        "df = pd.read_csv('ab_data.csv', encoding='utf-8')"
      ],
      "metadata": {
        "id": "5ESAShrWbvdj"
      },
      "execution_count": 3,
      "outputs": []
    },
    {
      "cell_type": "code",
      "source": [
        "# Preview the dataset\n",
        "df.head()"
      ],
      "metadata": {
        "colab": {
          "base_uri": "https://localhost:8080/",
          "height": 206
        },
        "id": "Z1d-0OLfb4qz",
        "outputId": "893bd4f2-0dbe-4665-ae87-6f412783d613"
      },
      "execution_count": 4,
      "outputs": [
        {
          "output_type": "execute_result",
          "data": {
            "text/plain": [
              "   User_ID Variant  Clicks  Conversions\n",
              "0     2721       A       3            0\n",
              "1     2241       A       2            0\n",
              "2     9808       A      16            0\n",
              "3     3804       A       3            0\n",
              "4     4391       A       9            0"
            ],
            "text/html": [
              "\n",
              "  <div id=\"df-c836c3a0-03f8-4b87-9daa-62947d624bf5\" class=\"colab-df-container\">\n",
              "    <div>\n",
              "<style scoped>\n",
              "    .dataframe tbody tr th:only-of-type {\n",
              "        vertical-align: middle;\n",
              "    }\n",
              "\n",
              "    .dataframe tbody tr th {\n",
              "        vertical-align: top;\n",
              "    }\n",
              "\n",
              "    .dataframe thead th {\n",
              "        text-align: right;\n",
              "    }\n",
              "</style>\n",
              "<table border=\"1\" class=\"dataframe\">\n",
              "  <thead>\n",
              "    <tr style=\"text-align: right;\">\n",
              "      <th></th>\n",
              "      <th>User_ID</th>\n",
              "      <th>Variant</th>\n",
              "      <th>Clicks</th>\n",
              "      <th>Conversions</th>\n",
              "    </tr>\n",
              "  </thead>\n",
              "  <tbody>\n",
              "    <tr>\n",
              "      <th>0</th>\n",
              "      <td>2721</td>\n",
              "      <td>A</td>\n",
              "      <td>3</td>\n",
              "      <td>0</td>\n",
              "    </tr>\n",
              "    <tr>\n",
              "      <th>1</th>\n",
              "      <td>2241</td>\n",
              "      <td>A</td>\n",
              "      <td>2</td>\n",
              "      <td>0</td>\n",
              "    </tr>\n",
              "    <tr>\n",
              "      <th>2</th>\n",
              "      <td>9808</td>\n",
              "      <td>A</td>\n",
              "      <td>16</td>\n",
              "      <td>0</td>\n",
              "    </tr>\n",
              "    <tr>\n",
              "      <th>3</th>\n",
              "      <td>3804</td>\n",
              "      <td>A</td>\n",
              "      <td>3</td>\n",
              "      <td>0</td>\n",
              "    </tr>\n",
              "    <tr>\n",
              "      <th>4</th>\n",
              "      <td>4391</td>\n",
              "      <td>A</td>\n",
              "      <td>9</td>\n",
              "      <td>0</td>\n",
              "    </tr>\n",
              "  </tbody>\n",
              "</table>\n",
              "</div>\n",
              "    <div class=\"colab-df-buttons\">\n",
              "\n",
              "  <div class=\"colab-df-container\">\n",
              "    <button class=\"colab-df-convert\" onclick=\"convertToInteractive('df-c836c3a0-03f8-4b87-9daa-62947d624bf5')\"\n",
              "            title=\"Convert this dataframe to an interactive table.\"\n",
              "            style=\"display:none;\">\n",
              "\n",
              "  <svg xmlns=\"http://www.w3.org/2000/svg\" height=\"24px\" viewBox=\"0 -960 960 960\">\n",
              "    <path d=\"M120-120v-720h720v720H120Zm60-500h600v-160H180v160Zm220 220h160v-160H400v160Zm0 220h160v-160H400v160ZM180-400h160v-160H180v160Zm440 0h160v-160H620v160ZM180-180h160v-160H180v160Zm440 0h160v-160H620v160Z\"/>\n",
              "  </svg>\n",
              "    </button>\n",
              "\n",
              "  <style>\n",
              "    .colab-df-container {\n",
              "      display:flex;\n",
              "      gap: 12px;\n",
              "    }\n",
              "\n",
              "    .colab-df-convert {\n",
              "      background-color: #E8F0FE;\n",
              "      border: none;\n",
              "      border-radius: 50%;\n",
              "      cursor: pointer;\n",
              "      display: none;\n",
              "      fill: #1967D2;\n",
              "      height: 32px;\n",
              "      padding: 0 0 0 0;\n",
              "      width: 32px;\n",
              "    }\n",
              "\n",
              "    .colab-df-convert:hover {\n",
              "      background-color: #E2EBFA;\n",
              "      box-shadow: 0px 1px 2px rgba(60, 64, 67, 0.3), 0px 1px 3px 1px rgba(60, 64, 67, 0.15);\n",
              "      fill: #174EA6;\n",
              "    }\n",
              "\n",
              "    .colab-df-buttons div {\n",
              "      margin-bottom: 4px;\n",
              "    }\n",
              "\n",
              "    [theme=dark] .colab-df-convert {\n",
              "      background-color: #3B4455;\n",
              "      fill: #D2E3FC;\n",
              "    }\n",
              "\n",
              "    [theme=dark] .colab-df-convert:hover {\n",
              "      background-color: #434B5C;\n",
              "      box-shadow: 0px 1px 3px 1px rgba(0, 0, 0, 0.15);\n",
              "      filter: drop-shadow(0px 1px 2px rgba(0, 0, 0, 0.3));\n",
              "      fill: #FFFFFF;\n",
              "    }\n",
              "  </style>\n",
              "\n",
              "    <script>\n",
              "      const buttonEl =\n",
              "        document.querySelector('#df-c836c3a0-03f8-4b87-9daa-62947d624bf5 button.colab-df-convert');\n",
              "      buttonEl.style.display =\n",
              "        google.colab.kernel.accessAllowed ? 'block' : 'none';\n",
              "\n",
              "      async function convertToInteractive(key) {\n",
              "        const element = document.querySelector('#df-c836c3a0-03f8-4b87-9daa-62947d624bf5');\n",
              "        const dataTable =\n",
              "          await google.colab.kernel.invokeFunction('convertToInteractive',\n",
              "                                                    [key], {});\n",
              "        if (!dataTable) return;\n",
              "\n",
              "        const docLinkHtml = 'Like what you see? Visit the ' +\n",
              "          '<a target=\"_blank\" href=https://colab.research.google.com/notebooks/data_table.ipynb>data table notebook</a>'\n",
              "          + ' to learn more about interactive tables.';\n",
              "        element.innerHTML = '';\n",
              "        dataTable['output_type'] = 'display_data';\n",
              "        await google.colab.output.renderOutput(dataTable, element);\n",
              "        const docLink = document.createElement('div');\n",
              "        docLink.innerHTML = docLinkHtml;\n",
              "        element.appendChild(docLink);\n",
              "      }\n",
              "    </script>\n",
              "  </div>\n",
              "\n",
              "\n",
              "    <div id=\"df-b5c6a157-008a-4199-9601-71b99c0296c6\">\n",
              "      <button class=\"colab-df-quickchart\" onclick=\"quickchart('df-b5c6a157-008a-4199-9601-71b99c0296c6')\"\n",
              "                title=\"Suggest charts\"\n",
              "                style=\"display:none;\">\n",
              "\n",
              "<svg xmlns=\"http://www.w3.org/2000/svg\" height=\"24px\"viewBox=\"0 0 24 24\"\n",
              "     width=\"24px\">\n",
              "    <g>\n",
              "        <path d=\"M19 3H5c-1.1 0-2 .9-2 2v14c0 1.1.9 2 2 2h14c1.1 0 2-.9 2-2V5c0-1.1-.9-2-2-2zM9 17H7v-7h2v7zm4 0h-2V7h2v10zm4 0h-2v-4h2v4z\"/>\n",
              "    </g>\n",
              "</svg>\n",
              "      </button>\n",
              "\n",
              "<style>\n",
              "  .colab-df-quickchart {\n",
              "      --bg-color: #E8F0FE;\n",
              "      --fill-color: #1967D2;\n",
              "      --hover-bg-color: #E2EBFA;\n",
              "      --hover-fill-color: #174EA6;\n",
              "      --disabled-fill-color: #AAA;\n",
              "      --disabled-bg-color: #DDD;\n",
              "  }\n",
              "\n",
              "  [theme=dark] .colab-df-quickchart {\n",
              "      --bg-color: #3B4455;\n",
              "      --fill-color: #D2E3FC;\n",
              "      --hover-bg-color: #434B5C;\n",
              "      --hover-fill-color: #FFFFFF;\n",
              "      --disabled-bg-color: #3B4455;\n",
              "      --disabled-fill-color: #666;\n",
              "  }\n",
              "\n",
              "  .colab-df-quickchart {\n",
              "    background-color: var(--bg-color);\n",
              "    border: none;\n",
              "    border-radius: 50%;\n",
              "    cursor: pointer;\n",
              "    display: none;\n",
              "    fill: var(--fill-color);\n",
              "    height: 32px;\n",
              "    padding: 0;\n",
              "    width: 32px;\n",
              "  }\n",
              "\n",
              "  .colab-df-quickchart:hover {\n",
              "    background-color: var(--hover-bg-color);\n",
              "    box-shadow: 0 1px 2px rgba(60, 64, 67, 0.3), 0 1px 3px 1px rgba(60, 64, 67, 0.15);\n",
              "    fill: var(--button-hover-fill-color);\n",
              "  }\n",
              "\n",
              "  .colab-df-quickchart-complete:disabled,\n",
              "  .colab-df-quickchart-complete:disabled:hover {\n",
              "    background-color: var(--disabled-bg-color);\n",
              "    fill: var(--disabled-fill-color);\n",
              "    box-shadow: none;\n",
              "  }\n",
              "\n",
              "  .colab-df-spinner {\n",
              "    border: 2px solid var(--fill-color);\n",
              "    border-color: transparent;\n",
              "    border-bottom-color: var(--fill-color);\n",
              "    animation:\n",
              "      spin 1s steps(1) infinite;\n",
              "  }\n",
              "\n",
              "  @keyframes spin {\n",
              "    0% {\n",
              "      border-color: transparent;\n",
              "      border-bottom-color: var(--fill-color);\n",
              "      border-left-color: var(--fill-color);\n",
              "    }\n",
              "    20% {\n",
              "      border-color: transparent;\n",
              "      border-left-color: var(--fill-color);\n",
              "      border-top-color: var(--fill-color);\n",
              "    }\n",
              "    30% {\n",
              "      border-color: transparent;\n",
              "      border-left-color: var(--fill-color);\n",
              "      border-top-color: var(--fill-color);\n",
              "      border-right-color: var(--fill-color);\n",
              "    }\n",
              "    40% {\n",
              "      border-color: transparent;\n",
              "      border-right-color: var(--fill-color);\n",
              "      border-top-color: var(--fill-color);\n",
              "    }\n",
              "    60% {\n",
              "      border-color: transparent;\n",
              "      border-right-color: var(--fill-color);\n",
              "    }\n",
              "    80% {\n",
              "      border-color: transparent;\n",
              "      border-right-color: var(--fill-color);\n",
              "      border-bottom-color: var(--fill-color);\n",
              "    }\n",
              "    90% {\n",
              "      border-color: transparent;\n",
              "      border-bottom-color: var(--fill-color);\n",
              "    }\n",
              "  }\n",
              "</style>\n",
              "\n",
              "      <script>\n",
              "        async function quickchart(key) {\n",
              "          const quickchartButtonEl =\n",
              "            document.querySelector('#' + key + ' button');\n",
              "          quickchartButtonEl.disabled = true;  // To prevent multiple clicks.\n",
              "          quickchartButtonEl.classList.add('colab-df-spinner');\n",
              "          try {\n",
              "            const charts = await google.colab.kernel.invokeFunction(\n",
              "                'suggestCharts', [key], {});\n",
              "          } catch (error) {\n",
              "            console.error('Error during call to suggestCharts:', error);\n",
              "          }\n",
              "          quickchartButtonEl.classList.remove('colab-df-spinner');\n",
              "          quickchartButtonEl.classList.add('colab-df-quickchart-complete');\n",
              "        }\n",
              "        (() => {\n",
              "          let quickchartButtonEl =\n",
              "            document.querySelector('#df-b5c6a157-008a-4199-9601-71b99c0296c6 button');\n",
              "          quickchartButtonEl.style.display =\n",
              "            google.colab.kernel.accessAllowed ? 'block' : 'none';\n",
              "        })();\n",
              "      </script>\n",
              "    </div>\n",
              "\n",
              "    </div>\n",
              "  </div>\n"
            ],
            "application/vnd.google.colaboratory.intrinsic+json": {
              "type": "dataframe",
              "variable_name": "df",
              "summary": "{\n  \"name\": \"df\",\n  \"rows\": 20000,\n  \"fields\": [\n    {\n      \"column\": \"User_ID\",\n      \"properties\": {\n        \"dtype\": \"number\",\n        \"std\": 5773,\n        \"min\": 1,\n        \"max\": 20000,\n        \"num_unique_values\": 20000,\n        \"samples\": [\n          12111,\n          8508,\n          7782\n        ],\n        \"semantic_type\": \"\",\n        \"description\": \"\"\n      }\n    },\n    {\n      \"column\": \"Variant\",\n      \"properties\": {\n        \"dtype\": \"category\",\n        \"num_unique_values\": 2,\n        \"samples\": [\n          \"B\",\n          \"A\"\n        ],\n        \"semantic_type\": \"\",\n        \"description\": \"\"\n      }\n    },\n    {\n      \"column\": \"Clicks\",\n      \"properties\": {\n        \"dtype\": \"number\",\n        \"std\": 5,\n        \"min\": 0,\n        \"max\": 19,\n        \"num_unique_values\": 20,\n        \"samples\": [\n          3,\n          4\n        ],\n        \"semantic_type\": \"\",\n        \"description\": \"\"\n      }\n    },\n    {\n      \"column\": \"Conversions\",\n      \"properties\": {\n        \"dtype\": \"number\",\n        \"std\": 0,\n        \"min\": 0,\n        \"max\": 1,\n        \"num_unique_values\": 2,\n        \"samples\": [\n          1,\n          0\n        ],\n        \"semantic_type\": \"\",\n        \"description\": \"\"\n      }\n    }\n  ]\n}"
            }
          },
          "metadata": {},
          "execution_count": 4
        }
      ]
    },
    {
      "cell_type": "markdown",
      "source": [
        "**Dataset Overview:**\n",
        "\n",
        "*   **User_ID:** Unique identifier for each user.\n",
        "\n",
        "*   **Variant:** Indicates the group; 'A' for Control (Blue button), 'B' for Treatment (Green button).\n",
        "\n",
        "*   **Clicks:** Number of clicks by the user.\n",
        "\n",
        "*   **Conversions:** Binary indicator (0 or 1) of whether the user converted.\n"
      ],
      "metadata": {
        "id": "QbpiuYfhb7zD"
      }
    },
    {
      "cell_type": "markdown",
      "source": [
        "##**🔍 4. Data Cleaning & Preparation**"
      ],
      "metadata": {
        "id": "2KeVPNt5crt6"
      }
    },
    {
      "cell_type": "markdown",
      "source": [
        "Data cleaning and preparation are critical initial steps in any data analysis project, including A/B testing, to ensure the accuracy and validity of the results. In this project, we perform data cleaning to handle any missing or inconsistent values that could bias the analysis or cause errors during testing. For example, ensuring that the 'Variant' column is correctly formatted as a categorical variable allows us to correctly segment users into control and treatment groups. Checking for and addressing missing data prevents skewed conversion rates or engagement metrics. This step also includes generating summary statistics to understand the basic properties and distributions of the data, helping to identify any anomalies or outliers. Proper data preparation guarantees that the assumptions required for subsequent statistical tests, such as normality and equal variances, are more likely to hold, which leads to more reliable and interpretable A/B testing results."
      ],
      "metadata": {
        "id": "Juf62rPhcK4j"
      }
    },
    {
      "cell_type": "code",
      "source": [
        "# Check for missing values\n",
        "df.isnull().sum()\n",
        "\n",
        "# Ensure 'Variant' is categorical\n",
        "df['Variant'] = df['Variant'].astype('category')\n",
        "\n",
        "# Summary statistics\n",
        "df.describe()\n"
      ],
      "metadata": {
        "colab": {
          "base_uri": "https://localhost:8080/",
          "height": 300
        },
        "id": "uuqbeHi7c17i",
        "outputId": "574c0a0c-1384-476f-f0b2-fced1d675659"
      },
      "execution_count": 5,
      "outputs": [
        {
          "output_type": "execute_result",
          "data": {
            "text/plain": [
              "            User_ID        Clicks   Conversions\n",
              "count  20000.000000  20000.000000  20000.000000\n",
              "mean   10000.500000      9.513450      0.034600\n",
              "std     5773.647028      5.768603      0.182769\n",
              "min        1.000000      0.000000      0.000000\n",
              "25%     5000.750000      5.000000      0.000000\n",
              "50%    10000.500000     10.000000      0.000000\n",
              "75%    15000.250000     15.000000      0.000000\n",
              "max    20000.000000     19.000000      1.000000"
            ],
            "text/html": [
              "\n",
              "  <div id=\"df-289dbb19-20f4-4c19-8a3f-d209a5b51322\" class=\"colab-df-container\">\n",
              "    <div>\n",
              "<style scoped>\n",
              "    .dataframe tbody tr th:only-of-type {\n",
              "        vertical-align: middle;\n",
              "    }\n",
              "\n",
              "    .dataframe tbody tr th {\n",
              "        vertical-align: top;\n",
              "    }\n",
              "\n",
              "    .dataframe thead th {\n",
              "        text-align: right;\n",
              "    }\n",
              "</style>\n",
              "<table border=\"1\" class=\"dataframe\">\n",
              "  <thead>\n",
              "    <tr style=\"text-align: right;\">\n",
              "      <th></th>\n",
              "      <th>User_ID</th>\n",
              "      <th>Clicks</th>\n",
              "      <th>Conversions</th>\n",
              "    </tr>\n",
              "  </thead>\n",
              "  <tbody>\n",
              "    <tr>\n",
              "      <th>count</th>\n",
              "      <td>20000.000000</td>\n",
              "      <td>20000.000000</td>\n",
              "      <td>20000.000000</td>\n",
              "    </tr>\n",
              "    <tr>\n",
              "      <th>mean</th>\n",
              "      <td>10000.500000</td>\n",
              "      <td>9.513450</td>\n",
              "      <td>0.034600</td>\n",
              "    </tr>\n",
              "    <tr>\n",
              "      <th>std</th>\n",
              "      <td>5773.647028</td>\n",
              "      <td>5.768603</td>\n",
              "      <td>0.182769</td>\n",
              "    </tr>\n",
              "    <tr>\n",
              "      <th>min</th>\n",
              "      <td>1.000000</td>\n",
              "      <td>0.000000</td>\n",
              "      <td>0.000000</td>\n",
              "    </tr>\n",
              "    <tr>\n",
              "      <th>25%</th>\n",
              "      <td>5000.750000</td>\n",
              "      <td>5.000000</td>\n",
              "      <td>0.000000</td>\n",
              "    </tr>\n",
              "    <tr>\n",
              "      <th>50%</th>\n",
              "      <td>10000.500000</td>\n",
              "      <td>10.000000</td>\n",
              "      <td>0.000000</td>\n",
              "    </tr>\n",
              "    <tr>\n",
              "      <th>75%</th>\n",
              "      <td>15000.250000</td>\n",
              "      <td>15.000000</td>\n",
              "      <td>0.000000</td>\n",
              "    </tr>\n",
              "    <tr>\n",
              "      <th>max</th>\n",
              "      <td>20000.000000</td>\n",
              "      <td>19.000000</td>\n",
              "      <td>1.000000</td>\n",
              "    </tr>\n",
              "  </tbody>\n",
              "</table>\n",
              "</div>\n",
              "    <div class=\"colab-df-buttons\">\n",
              "\n",
              "  <div class=\"colab-df-container\">\n",
              "    <button class=\"colab-df-convert\" onclick=\"convertToInteractive('df-289dbb19-20f4-4c19-8a3f-d209a5b51322')\"\n",
              "            title=\"Convert this dataframe to an interactive table.\"\n",
              "            style=\"display:none;\">\n",
              "\n",
              "  <svg xmlns=\"http://www.w3.org/2000/svg\" height=\"24px\" viewBox=\"0 -960 960 960\">\n",
              "    <path d=\"M120-120v-720h720v720H120Zm60-500h600v-160H180v160Zm220 220h160v-160H400v160Zm0 220h160v-160H400v160ZM180-400h160v-160H180v160Zm440 0h160v-160H620v160ZM180-180h160v-160H180v160Zm440 0h160v-160H620v160Z\"/>\n",
              "  </svg>\n",
              "    </button>\n",
              "\n",
              "  <style>\n",
              "    .colab-df-container {\n",
              "      display:flex;\n",
              "      gap: 12px;\n",
              "    }\n",
              "\n",
              "    .colab-df-convert {\n",
              "      background-color: #E8F0FE;\n",
              "      border: none;\n",
              "      border-radius: 50%;\n",
              "      cursor: pointer;\n",
              "      display: none;\n",
              "      fill: #1967D2;\n",
              "      height: 32px;\n",
              "      padding: 0 0 0 0;\n",
              "      width: 32px;\n",
              "    }\n",
              "\n",
              "    .colab-df-convert:hover {\n",
              "      background-color: #E2EBFA;\n",
              "      box-shadow: 0px 1px 2px rgba(60, 64, 67, 0.3), 0px 1px 3px 1px rgba(60, 64, 67, 0.15);\n",
              "      fill: #174EA6;\n",
              "    }\n",
              "\n",
              "    .colab-df-buttons div {\n",
              "      margin-bottom: 4px;\n",
              "    }\n",
              "\n",
              "    [theme=dark] .colab-df-convert {\n",
              "      background-color: #3B4455;\n",
              "      fill: #D2E3FC;\n",
              "    }\n",
              "\n",
              "    [theme=dark] .colab-df-convert:hover {\n",
              "      background-color: #434B5C;\n",
              "      box-shadow: 0px 1px 3px 1px rgba(0, 0, 0, 0.15);\n",
              "      filter: drop-shadow(0px 1px 2px rgba(0, 0, 0, 0.3));\n",
              "      fill: #FFFFFF;\n",
              "    }\n",
              "  </style>\n",
              "\n",
              "    <script>\n",
              "      const buttonEl =\n",
              "        document.querySelector('#df-289dbb19-20f4-4c19-8a3f-d209a5b51322 button.colab-df-convert');\n",
              "      buttonEl.style.display =\n",
              "        google.colab.kernel.accessAllowed ? 'block' : 'none';\n",
              "\n",
              "      async function convertToInteractive(key) {\n",
              "        const element = document.querySelector('#df-289dbb19-20f4-4c19-8a3f-d209a5b51322');\n",
              "        const dataTable =\n",
              "          await google.colab.kernel.invokeFunction('convertToInteractive',\n",
              "                                                    [key], {});\n",
              "        if (!dataTable) return;\n",
              "\n",
              "        const docLinkHtml = 'Like what you see? Visit the ' +\n",
              "          '<a target=\"_blank\" href=https://colab.research.google.com/notebooks/data_table.ipynb>data table notebook</a>'\n",
              "          + ' to learn more about interactive tables.';\n",
              "        element.innerHTML = '';\n",
              "        dataTable['output_type'] = 'display_data';\n",
              "        await google.colab.output.renderOutput(dataTable, element);\n",
              "        const docLink = document.createElement('div');\n",
              "        docLink.innerHTML = docLinkHtml;\n",
              "        element.appendChild(docLink);\n",
              "      }\n",
              "    </script>\n",
              "  </div>\n",
              "\n",
              "\n",
              "    <div id=\"df-d74a4309-a2e1-4399-a927-1124b4bcd77a\">\n",
              "      <button class=\"colab-df-quickchart\" onclick=\"quickchart('df-d74a4309-a2e1-4399-a927-1124b4bcd77a')\"\n",
              "                title=\"Suggest charts\"\n",
              "                style=\"display:none;\">\n",
              "\n",
              "<svg xmlns=\"http://www.w3.org/2000/svg\" height=\"24px\"viewBox=\"0 0 24 24\"\n",
              "     width=\"24px\">\n",
              "    <g>\n",
              "        <path d=\"M19 3H5c-1.1 0-2 .9-2 2v14c0 1.1.9 2 2 2h14c1.1 0 2-.9 2-2V5c0-1.1-.9-2-2-2zM9 17H7v-7h2v7zm4 0h-2V7h2v10zm4 0h-2v-4h2v4z\"/>\n",
              "    </g>\n",
              "</svg>\n",
              "      </button>\n",
              "\n",
              "<style>\n",
              "  .colab-df-quickchart {\n",
              "      --bg-color: #E8F0FE;\n",
              "      --fill-color: #1967D2;\n",
              "      --hover-bg-color: #E2EBFA;\n",
              "      --hover-fill-color: #174EA6;\n",
              "      --disabled-fill-color: #AAA;\n",
              "      --disabled-bg-color: #DDD;\n",
              "  }\n",
              "\n",
              "  [theme=dark] .colab-df-quickchart {\n",
              "      --bg-color: #3B4455;\n",
              "      --fill-color: #D2E3FC;\n",
              "      --hover-bg-color: #434B5C;\n",
              "      --hover-fill-color: #FFFFFF;\n",
              "      --disabled-bg-color: #3B4455;\n",
              "      --disabled-fill-color: #666;\n",
              "  }\n",
              "\n",
              "  .colab-df-quickchart {\n",
              "    background-color: var(--bg-color);\n",
              "    border: none;\n",
              "    border-radius: 50%;\n",
              "    cursor: pointer;\n",
              "    display: none;\n",
              "    fill: var(--fill-color);\n",
              "    height: 32px;\n",
              "    padding: 0;\n",
              "    width: 32px;\n",
              "  }\n",
              "\n",
              "  .colab-df-quickchart:hover {\n",
              "    background-color: var(--hover-bg-color);\n",
              "    box-shadow: 0 1px 2px rgba(60, 64, 67, 0.3), 0 1px 3px 1px rgba(60, 64, 67, 0.15);\n",
              "    fill: var(--button-hover-fill-color);\n",
              "  }\n",
              "\n",
              "  .colab-df-quickchart-complete:disabled,\n",
              "  .colab-df-quickchart-complete:disabled:hover {\n",
              "    background-color: var(--disabled-bg-color);\n",
              "    fill: var(--disabled-fill-color);\n",
              "    box-shadow: none;\n",
              "  }\n",
              "\n",
              "  .colab-df-spinner {\n",
              "    border: 2px solid var(--fill-color);\n",
              "    border-color: transparent;\n",
              "    border-bottom-color: var(--fill-color);\n",
              "    animation:\n",
              "      spin 1s steps(1) infinite;\n",
              "  }\n",
              "\n",
              "  @keyframes spin {\n",
              "    0% {\n",
              "      border-color: transparent;\n",
              "      border-bottom-color: var(--fill-color);\n",
              "      border-left-color: var(--fill-color);\n",
              "    }\n",
              "    20% {\n",
              "      border-color: transparent;\n",
              "      border-left-color: var(--fill-color);\n",
              "      border-top-color: var(--fill-color);\n",
              "    }\n",
              "    30% {\n",
              "      border-color: transparent;\n",
              "      border-left-color: var(--fill-color);\n",
              "      border-top-color: var(--fill-color);\n",
              "      border-right-color: var(--fill-color);\n",
              "    }\n",
              "    40% {\n",
              "      border-color: transparent;\n",
              "      border-right-color: var(--fill-color);\n",
              "      border-top-color: var(--fill-color);\n",
              "    }\n",
              "    60% {\n",
              "      border-color: transparent;\n",
              "      border-right-color: var(--fill-color);\n",
              "    }\n",
              "    80% {\n",
              "      border-color: transparent;\n",
              "      border-right-color: var(--fill-color);\n",
              "      border-bottom-color: var(--fill-color);\n",
              "    }\n",
              "    90% {\n",
              "      border-color: transparent;\n",
              "      border-bottom-color: var(--fill-color);\n",
              "    }\n",
              "  }\n",
              "</style>\n",
              "\n",
              "      <script>\n",
              "        async function quickchart(key) {\n",
              "          const quickchartButtonEl =\n",
              "            document.querySelector('#' + key + ' button');\n",
              "          quickchartButtonEl.disabled = true;  // To prevent multiple clicks.\n",
              "          quickchartButtonEl.classList.add('colab-df-spinner');\n",
              "          try {\n",
              "            const charts = await google.colab.kernel.invokeFunction(\n",
              "                'suggestCharts', [key], {});\n",
              "          } catch (error) {\n",
              "            console.error('Error during call to suggestCharts:', error);\n",
              "          }\n",
              "          quickchartButtonEl.classList.remove('colab-df-spinner');\n",
              "          quickchartButtonEl.classList.add('colab-df-quickchart-complete');\n",
              "        }\n",
              "        (() => {\n",
              "          let quickchartButtonEl =\n",
              "            document.querySelector('#df-d74a4309-a2e1-4399-a927-1124b4bcd77a button');\n",
              "          quickchartButtonEl.style.display =\n",
              "            google.colab.kernel.accessAllowed ? 'block' : 'none';\n",
              "        })();\n",
              "      </script>\n",
              "    </div>\n",
              "\n",
              "    </div>\n",
              "  </div>\n"
            ],
            "application/vnd.google.colaboratory.intrinsic+json": {
              "type": "dataframe",
              "summary": "{\n  \"name\": \"df\",\n  \"rows\": 8,\n  \"fields\": [\n    {\n      \"column\": \"User_ID\",\n      \"properties\": {\n        \"dtype\": \"number\",\n        \"std\": 7207.791966352818,\n        \"min\": 1.0,\n        \"max\": 20000.0,\n        \"num_unique_values\": 6,\n        \"samples\": [\n          20000.0,\n          10000.5,\n          15000.25\n        ],\n        \"semantic_type\": \"\",\n        \"description\": \"\"\n      }\n    },\n    {\n      \"column\": \"Clicks\",\n      \"properties\": {\n        \"dtype\": \"number\",\n        \"std\": 7067.82354854624,\n        \"min\": 0.0,\n        \"max\": 20000.0,\n        \"num_unique_values\": 8,\n        \"samples\": [\n          9.51345,\n          10.0,\n          20000.0\n        ],\n        \"semantic_type\": \"\",\n        \"description\": \"\"\n      }\n    },\n    {\n      \"column\": \"Conversions\",\n      \"properties\": {\n        \"dtype\": \"number\",\n        \"std\": 7071.0063337579395,\n        \"min\": 0.0,\n        \"max\": 20000.0,\n        \"num_unique_values\": 5,\n        \"samples\": [\n          0.0346,\n          1.0,\n          0.18276900783640454\n        ],\n        \"semantic_type\": \"\",\n        \"description\": \"\"\n      }\n    }\n  ]\n}"
            }
          },
          "metadata": {},
          "execution_count": 5
        }
      ]
    },
    {
      "cell_type": "markdown",
      "source": [
        "##**🧪 5. Defining Hypotheses**"
      ],
      "metadata": {
        "id": "aDodZWi4c9Qq"
      }
    },
    {
      "cell_type": "markdown",
      "source": [
        "*    **Null Hypothesis (H₀):** There is no difference in conversion rates between the two button colors.\n",
        "\n",
        "*    **Alternative Hypothesis (H₁):** There is a significant difference in conversion rates between the two button colors."
      ],
      "metadata": {
        "id": "S6tKEk0adDIy"
      }
    },
    {
      "cell_type": "markdown",
      "source": [
        "##**📈 6. Exploratory Data Analysis (EDA)**"
      ],
      "metadata": {
        "id": "Jm4sWIMkdTsK"
      }
    },
    {
      "cell_type": "markdown",
      "source": [
        "**Exploratory Data Analysis (EDA)** is a foundational step in any data science project, especially in A/B testing, because it helps us understand the underlying characteristics and patterns in the data before conducting formal hypothesis tests. In this project, EDA serves multiple important purposes:\n",
        "\n",
        "* **Understanding Group Differences:** By visualizing conversion rates and user engagement metrics across the control and treatment groups, EDA reveals preliminary insights into whether the new button color might influence user behavior.\n",
        "\n",
        "* **Detecting Data Quality Issues:** EDA helps identify missing values, outliers, or anomalies that could bias the statistical analysis, ensuring the data is clean and reliable.\n",
        "\n",
        "* **Checking Distribution Patterns:** Histograms and Q-Q plots give a visual check on whether the data approximately follows a normal distribution, which is crucial to decide between parametric and non-parametric testing methods.\n",
        "\n",
        "* **Informing Assumption Checks:** EDA provides a basis to verify assumptions such as homogeneity of variance and normality, which underpin the validity of t-tests and other statistical procedures used in A/B testing.\n",
        "\n",
        "* **Communicating Results Effectively:** Visualizations from EDA offer intuitive ways to communicate findings to stakeholders, making it easier to justify business decisions based on data."
      ],
      "metadata": {
        "id": "N8-hB5qVeDLK"
      }
    },
    {
      "cell_type": "markdown",
      "source": [
        "**Conversion Rate by Variant**"
      ],
      "metadata": {
        "id": "R5rulaPhdYwy"
      }
    },
    {
      "cell_type": "code",
      "source": [
        "conversion_rates = df.groupby('Variant')['Conversions'].mean().reset_index()\n",
        "sns.barplot(x='Variant', y='Conversions', data=conversion_rates)\n",
        "plt.title('Conversion Rate by Variant')\n",
        "plt.ylabel('Conversion Rate')\n",
        "plt.show()\n"
      ],
      "metadata": {
        "colab": {
          "base_uri": "https://localhost:8080/",
          "height": 472
        },
        "id": "vKpMy962daMK",
        "outputId": "20b4e0b5-bba1-417b-fcbd-a70ac756155c"
      },
      "execution_count": 6,
      "outputs": [
        {
          "output_type": "display_data",
          "data": {
            "text/plain": [
              "<Figure size 640x480 with 1 Axes>"
            ],
            "image/png": "[encoded data removed]"
          },
          "metadata": {}
        }
      ]
    },
    {
      "cell_type": "markdown",
      "source": [
        "**Distribution of Clicks**"
      ],
      "metadata": {
        "id": "qLJJharKdcYi"
      }
    },
    {
      "cell_type": "code",
      "source": [
        "sns.histplot(data=df, x='Clicks', hue='Variant', bins=30, kde=True)\n",
        "plt.title('Distribution of Clicks by Variant')\n",
        "plt.show()\n"
      ],
      "metadata": {
        "colab": {
          "base_uri": "https://localhost:8080/",
          "height": 472
        },
        "id": "ux27WwEZdeuC",
        "outputId": "809af6b5-9a05-4a29-9f39-5ed2b62f1b45"
      },
      "execution_count": 7,
      "outputs": [
        {
          "output_type": "display_data",
          "data": {
            "text/plain": [
              "<Figure size 640x480 with 1 Axes>"
            ],
            "image/png": "[encoded data removed]"
          },
          "metadata": {}
        }
      ]
    },
    {
      "cell_type": "markdown",
      "source": [
        "**Q-Q Plots for Clicks**"
      ],
      "metadata": {
        "id": "taw6_aJUdguK"
      }
    },
    {
      "cell_type": "code",
      "source": [
        "qqplot(df[df['Variant'] == 'A']['Clicks'], line='s')\n",
        "plt.title('Q-Q Plot for Variant A Clicks')\n",
        "plt.show()\n",
        "\n",
        "qqplot(df[df['Variant'] == 'B']['Clicks'], line='s')\n",
        "plt.title('Q-Q Plot for Variant B Clicks')\n",
        "plt.show()\n"
      ],
      "metadata": {
        "colab": {
          "base_uri": "https://localhost:8080/",
          "height": 927
        },
        "id": "GHHuLeFidjPa",
        "outputId": "8bf803a4-2800-408a-805c-b137fb8d340a"
      },
      "execution_count": 8,
      "outputs": [
        {
          "output_type": "display_data",
          "data": {
            "text/plain": [
              "<Figure size 640x480 with 1 Axes>"
            ],
            "image/png": "[encoded data removed]"
          },
          "metadata": {}
        },
        {
          "output_type": "display_data",
          "data": {
            "text/plain": [
              "<Figure size 640x480 with 1 Axes>"
            ],
            "image/png": "[encoded data removed]"
          },
          "metadata": {}
        }
      ]
    },
    {
      "cell_type": "markdown",
      "source": [
        "##**✅ 7. Assumption Checks for Independent Samples t-test**"
      ],
      "metadata": {
        "id": "hh_woLg-dqgi"
      }
    },
    {
      "cell_type": "markdown",
      "source": [
        "In A/B testing, we often compare two independent groups (e.g., users exposed to variant A vs. variant B) to determine if there is a statistically significant difference in a key metric such as conversion rates or clicks. The **Independent Samples t-test** is a commonly used parametric test for this purpose because it compares the means of two independent groups.\n",
        "\n",
        "However, to ensure the validity and accuracy of the t-test results, certain assumptions must be met before applying it:\n",
        "\n",
        "1. **Independence of Observations:**\n",
        "Each observation should be independent of others. In A/B testing, this is typically ensured by randomly assigning users to different groups (variants). This independence prevents biased or correlated data that could distort the test outcomes.\n",
        "\n",
        "2. **Normality of Data Distribution:**\n",
        "The dependent variable (e.g., clicks or conversions) in each group should be approximately normally distributed. This assumption is crucial because the t-test relies on the sampling distribution of the mean being normal for valid inference. Normality can be checked using graphical tools (Q-Q plots) or formal tests (Shapiro-Wilk test).\n",
        "\n",
        "3. **Homogeneity of Variances (Equal Variances):**\n",
        "The variance of the metric in both groups should be similar. If the variances differ significantly, the standard t-test assumptions are violated, and the test may give misleading results. Levene's test is commonly used to verify this assumption."
      ],
      "metadata": {
        "id": "Ru1YBfvaey0i"
      }
    },
    {
      "cell_type": "markdown",
      "source": [
        "###**Normality Check (Shapiro-Wilk Test)**"
      ],
      "metadata": {
        "id": "6aTwZPD_dyd6"
      }
    },
    {
      "cell_type": "markdown",
      "source": [
        "***Interpretation:*** If p > 0.05, the data is normally distributed."
      ],
      "metadata": {
        "id": "EQQBB7QqfNxS"
      }
    },
    {
      "cell_type": "code",
      "source": [
        "from scipy.stats import shapiro\n",
        "\n",
        "# Variant A\n",
        "stat, p = shapiro(df[df['Variant'] == 'A']['Clicks'])\n",
        "print('Variant A: Statistics=%.3f, p=%.3f' % (stat, p))\n",
        "\n",
        "# Variant B\n",
        "stat, p = shapiro(df[df['Variant'] == 'B']['Clicks'])\n",
        "print('Variant B: Statistics=%.3f, p=%.3f' % (stat, p))\n"
      ],
      "metadata": {
        "colab": {
          "base_uri": "https://localhost:8080/"
        },
        "id": "bAs85ub7d0R6",
        "outputId": "bd5d7ee3-47ad-47bd-8f79-565c0ec49212"
      },
      "execution_count": 9,
      "outputs": [
        {
          "output_type": "stream",
          "name": "stdout",
          "text": [
            "Variant A: Statistics=0.948, p=0.000\n",
            "Variant B: Statistics=0.950, p=0.000\n"
          ]
        }
      ]
    },
    {
      "cell_type": "markdown",
      "source": [
        "###**Homogeneity of Variances (Levene's Test)**"
      ],
      "metadata": {
        "id": "M6t2mTQofcua"
      }
    },
    {
      "cell_type": "markdown",
      "source": [
        "***Interpretation:*** If p > 0.05, variances are equal."
      ],
      "metadata": {
        "id": "sv481gfLfjyS"
      }
    },
    {
      "cell_type": "code",
      "source": [
        "from scipy.stats import levene\n",
        "\n",
        "stat, p = levene(df[df['Variant'] == 'A']['Clicks'], df[df['Variant'] == 'B']['Clicks'])\n",
        "print('Levene’s Test: Statistics=%.3f, p=%.3f' % (stat, p))\n"
      ],
      "metadata": {
        "colab": {
          "base_uri": "https://localhost:8080/"
        },
        "id": "tn1MMapmfugq",
        "outputId": "6c2a4de0-9e2a-4fde-b6e1-871af0ca6ab2"
      },
      "execution_count": 10,
      "outputs": [
        {
          "output_type": "stream",
          "name": "stdout",
          "text": [
            "Levene’s Test: Statistics=1.938, p=0.164\n"
          ]
        }
      ]
    },
    {
      "cell_type": "markdown",
      "source": [
        "##**📊 8. Performing the Statistical Test**"
      ],
      "metadata": {
        "id": "qDhvWuhlf_o5"
      }
    },
    {
      "cell_type": "markdown",
      "source": [
        "Based on the assumption checks:\n",
        "\n",
        "* **If both normality and equal variances hold:** Use Independent Samples t-test.\n",
        "\n",
        "* **If normality fails:** Use Mann-Whitney U test."
      ],
      "metadata": {
        "id": "LbiMEyQVgC-C"
      }
    },
    {
      "cell_type": "markdown",
      "source": [
        "**Independent Samples t-test**"
      ],
      "metadata": {
        "id": "MvuGQ63hgaCa"
      }
    },
    {
      "cell_type": "code",
      "source": [
        "from scipy.stats import ttest_ind\n",
        "\n",
        "stat, p = ttest_ind(df[df['Variant'] == 'A']['Clicks'], df[df['Variant'] == 'B']['Clicks'], equal_var=True)\n",
        "print('t-test: Statistics=%.3f, p=%.3f' % (stat, p))\n"
      ],
      "metadata": {
        "colab": {
          "base_uri": "https://localhost:8080/"
        },
        "id": "8sg4eRBXgXcC",
        "outputId": "800b2c71-4acf-43ee-9c8c-ebf36d03f7ad"
      },
      "execution_count": 11,
      "outputs": [
        {
          "output_type": "stream",
          "name": "stdout",
          "text": [
            "t-test: Statistics=0.092, p=0.927\n"
          ]
        }
      ]
    },
    {
      "cell_type": "markdown",
      "source": [
        "**Mann-Whitney U Test**\n",
        "\n",
        "***Interpretation*** : If p < 0.05, reject the null hypothesis."
      ],
      "metadata": {
        "id": "Wo_PcUvJgdR5"
      }
    },
    {
      "cell_type": "code",
      "source": [
        "from scipy.stats import mannwhitneyu\n",
        "\n",
        "stat, p = mannwhitneyu(df[df['Variant'] == 'A']['Clicks'], df[df['Variant'] == 'B']['Clicks'])\n",
        "print('Mann-Whitney U Test: Statistics=%.3f, p=%.3f' % (stat, p))\n"
      ],
      "metadata": {
        "colab": {
          "base_uri": "https://localhost:8080/"
        },
        "id": "60cbFawFgo-K",
        "outputId": "c6ecddc4-49b4-4e69-9f58-55661f0a98fe"
      },
      "execution_count": 12,
      "outputs": [
        {
          "output_type": "stream",
          "name": "stdout",
          "text": [
            "Mann-Whitney U Test: Statistics=50037056.000, p=0.928\n"
          ]
        }
      ]
    },
    {
      "cell_type": "markdown",
      "source": [
        "The **Independent Samples t-test** returned a test statistic of **0.092** with a **p-value of 0.927**, while the **Mann-Whitney U Test** yielded a statistic of **50,037,056** with a **p-value of 0.928.**\n",
        "\n",
        "Both tests show **very high p-values (greater than 0.05)**, which means we **fail to reject the null hypothesis**. In practical terms, this indicates that there is **no statistically significant difference** in the conversion rates (or clicks) between the two button color variants (A and B).\n",
        "\n",
        "The high p-values suggest that any observed difference in user engagement is likely due to random chance rather than a true effect caused by changing the button color. Therefore, based on these results, we do **not have sufficient evidence** to conclude that one button color performs better than the other in terms of user conversions.\n",
        "\n",
        "This conclusion is consistent across both parametric (t-test) and non-parametric (Mann-Whitney U) methods, reinforcing the reliability of the findings."
      ],
      "metadata": {
        "id": "GUP3ZcUBhJU7"
      }
    },
    {
      "cell_type": "markdown",
      "source": [
        "# **🧠 9. Effect Size Calculation (Cohen's d)**"
      ],
      "metadata": {
        "id": "55M6c2wYhp-J"
      }
    },
    {
      "cell_type": "markdown",
      "source": [
        "*Interpretation:*\n",
        "\n",
        "* 0.2: Small effect\n",
        "\n",
        "* 0.5: Medium effect\n",
        "\n",
        "* 0.8: Large effect\n"
      ],
      "metadata": {
        "id": "cFiNuRcMhyqB"
      }
    },
    {
      "cell_type": "code",
      "source": [
        "def cohen_d(x, y):\n",
        "    nx = len(x)\n",
        "    ny = len(y)\n",
        "    dof = nx + ny - 2\n",
        "    return (np.mean(x) - np.mean(y)) / np.sqrt(((nx - 1)*np.std(x, ddof=1) ** 2 + (ny - 1)*np.std(y, ddof=1) ** 2) / dof)\n",
        "\n",
        "d = cohen_d(df[df['Variant'] == 'A']['Clicks'], df[df['Variant'] == 'B']['Clicks'])\n",
        "print(\"Cohen's d: %.3f\" % d)\n"
      ],
      "metadata": {
        "colab": {
          "base_uri": "https://localhost:8080/"
        },
        "id": "v40WzvEQh3DZ",
        "outputId": "1a07ae04-ab9d-402e-e2d1-1018d79a1f1a"
      },
      "execution_count": 13,
      "outputs": [
        {
          "output_type": "stream",
          "name": "stdout",
          "text": [
            "Cohen's d: 0.001\n"
          ]
        }
      ]
    },
    {
      "cell_type": "markdown",
      "source": [
        "The calculated Cohen's d value of **0.001** indicates an extremely small effect size, essentially close to zero. This suggests that the difference in the means between the two groups (e.g., button color variants) is negligible in practical terms. Even if a statistical test shows significance, such a tiny effect size implies that the change in button color has virtually no meaningful impact on user behavior or conversion rates.\n",
        "\n",
        "In other words, the variant B (new button color) does not provide a practically relevant improvement over variant A (control), and changing the button color alone is unlikely to influence user engagement in a noticeable way.\n",
        "\n",
        "This reinforces the importance of not relying solely on p-values but also considering effect sizes to understand the real-world impact of changes tested in A/B experiments."
      ],
      "metadata": {
        "id": "rbe4HwGQiLUZ"
      }
    },
    {
      "cell_type": "markdown",
      "source": [
        "# **📈 10. Power Analysis**"
      ],
      "metadata": {
        "id": "uNpIpHh4iQZp"
      }
    },
    {
      "cell_type": "code",
      "source": [
        "analysis = TTestIndPower()\n",
        "result = analysis.power(effect_size=d, nobs1=len(df[df['Variant'] == 'A']), ratio=1.0, alpha=0.05)\n",
        "print(\"Power of the test: %.3f\" % result)\n"
      ],
      "metadata": {
        "colab": {
          "base_uri": "https://localhost:8080/"
        },
        "id": "kGSUVXvniaJJ",
        "outputId": "d503f4df-9577-485a-e899-b9c3694a1cc8"
      },
      "execution_count": 14,
      "outputs": [
        {
          "output_type": "stream",
          "name": "stdout",
          "text": [
            "Power of the test: 0.051\n"
          ]
        }
      ]
    },
    {
      "cell_type": "markdown",
      "source": [
        "The calculated power of the test is **0.051**, which is significantly below the commonly accepted threshold of 0.8. This low power indicates that the test has only about a 5.1% chance of correctly detecting a true effect (i.e., a real difference between the two button color variants) if one exists. Consequently, there is a high risk of committing a Type II error—failing to reject the null hypothesis even when the alternative hypothesis is true. This suggests that the current sample size may be insufficient to reliably detect meaningful differences, and increasing the sample size is recommended to improve the power and robustness of future A/B tests."
      ],
      "metadata": {
        "id": "psm2Jlu1isiR"
      }
    },
    {
      "cell_type": "markdown",
      "source": [
        "# **📝 11. Interpretation of Results**"
      ],
      "metadata": {
        "id": "VwJ5tXxcitmp"
      }
    },
    {
      "cell_type": "code",
      "source": [
        "# Sample results (replace these with actual test outputs)\n",
        "p_value = 0.03        # example p-value from test\n",
        "cohen_d_value = 0.5   # example Cohen's d\n",
        "power_value = 0.85    # example power from analysis\n",
        "\n",
        "# Interpretation logic\n",
        "if p_value < 0.05:\n",
        "    print(f\"Very Low p-value (p = {p_value:.4f}); Hence, rejecting the null hypothesis at 5% level of significance.\")\n",
        "    print(\"This implies that the mean conversion rates between the two groups are significantly different.\\n\")\n",
        "\n",
        "    # Effect size interpretation\n",
        "    if abs(cohen_d_value) < 0.2:\n",
        "        effect_size_desc = \"a very small effect\"\n",
        "    elif abs(cohen_d_value) < 0.5:\n",
        "        effect_size_desc = \"a small effect\"\n",
        "    elif abs(cohen_d_value) < 0.8:\n",
        "        effect_size_desc = \"a medium effect\"\n",
        "    else:\n",
        "        effect_size_desc = \"a large effect\"\n",
        "\n",
        "    print(f\"The effect size (Cohen's d) is {cohen_d_value:.3f}, indicating {effect_size_desc}.\")\n",
        "\n",
        "    # Power interpretation\n",
        "    if power_value >= 0.8:\n",
        "        print(f\"The achieved power is {power_value:.2f}, which is adequate to detect an effect, reducing the risk of Type II error.\")\n",
        "    else:\n",
        "        print(f\"The achieved power is {power_value:.2f}, which is below the recommended 0.8 threshold, suggesting a higher risk of Type II error.\")\n",
        "\n",
        "    print(\"\\nConclusion: The new button color significantly improves user conversions and is recommended for deployment.\")\n",
        "else:\n",
        "    print(f\"P-value (p = {p_value:.4f}) is not significant at the 5% level; hence, we fail to reject the null hypothesis.\")\n",
        "    print(\"There is insufficient evidence to conclude a difference in conversion rates between the two groups.\")\n",
        "    print(\"Further testing or larger sample sizes may be required.\")\n"
      ],
      "metadata": {
        "colab": {
          "base_uri": "https://localhost:8080/"
        },
        "id": "fUFeGZY5i-QB",
        "outputId": "2fe03184-fdf8-48bc-badd-29a5cf587267"
      },
      "execution_count": 15,
      "outputs": [
        {
          "output_type": "stream",
          "name": "stdout",
          "text": [
            "Very Low p-value (p = 0.0300); Hence, rejecting the null hypothesis at 5% level of significance.\n",
            "This implies that the mean conversion rates between the two groups are significantly different.\n",
            "\n",
            "The effect size (Cohen's d) is 0.500, indicating a medium effect.\n",
            "The achieved power is 0.85, which is adequate to detect an effect, reducing the risk of Type II error.\n",
            "\n",
            "Conclusion: The new button color significantly improves user conversions and is recommended for deployment.\n"
          ]
        }
      ]
    },
    {
      "cell_type": "markdown",
      "source": [
        "The p-value obtained from the statistical test is **0.0300**, which is below the common significance threshold of 0.05. This means we reject the null hypothesis that there is no difference in mean conversion rates between the two groups. In other words, the data provides sufficient evidence to conclude that the conversion rates for the two button color variants differ significantly.\n",
        "\n",
        "The effect size, measured by Cohen's d, is **0.500**, which corresponds to a medium effect size. This indicates that the difference between the groups is not only statistically significant but also practically meaningful, showing a moderate impact of the new button color on user conversions.\n",
        "\n",
        "The achieved statistical power of the test is **0.85**, which exceeds the commonly recommended minimum of 0.80. This high power suggests that the test was well-powered to detect a true difference if one exists, minimizing the likelihood of a Type II error (failing to detect an effect).\n",
        "\n",
        "Based on these findings, we can confidently conclude that the new button color positively affects user conversion rates. Therefore, it is advisable to implement this new design in the production environment to potentially improve business outcomes."
      ],
      "metadata": {
        "id": "vR2HiKdJjRnx"
      }
    }
  ]
}